{
 "cells": [
  {
   "cell_type": "code",
   "execution_count": 1,
   "metadata": {},
   "outputs": [
    {
     "name": "stderr",
     "output_type": "stream",
     "text": [
      "Warning message:\n",
      "\"package 'ggpubr' was built under R version 3.6.3\"Loading required package: ggplot2\n",
      "Registered S3 methods overwritten by 'ggplot2':\n",
      "  method         from \n",
      "  [.quosures     rlang\n",
      "  c.quosures     rlang\n",
      "  print.quosures rlang\n",
      "Loading required package: magrittr\n",
      "Warning message:\n",
      "\"package 'magrittr' was built under R version 3.6.3\"Registered S3 method overwritten by 'rvest':\n",
      "  method            from\n",
      "  read_xml.response xml2\n",
      "-- \u001b[1mAttaching packages\u001b[22m --------------------------------------- tidyverse 1.2.1 --\n",
      "\u001b[32mv\u001b[39m \u001b[34mtibble \u001b[39m 3.1.1     \u001b[32mv\u001b[39m \u001b[34mpurrr  \u001b[39m 0.3.2\n",
      "\u001b[32mv\u001b[39m \u001b[34mtidyr  \u001b[39m 0.8.3     \u001b[32mv\u001b[39m \u001b[34mdplyr  \u001b[39m 1.0.6\n",
      "\u001b[32mv\u001b[39m \u001b[34mreadr  \u001b[39m 1.3.1     \u001b[32mv\u001b[39m \u001b[34mstringr\u001b[39m 1.4.0\n",
      "\u001b[32mv\u001b[39m \u001b[34mtibble \u001b[39m 3.1.1     \u001b[32mv\u001b[39m \u001b[34mforcats\u001b[39m 0.4.0\n",
      "Warning message:\n",
      "\"package 'tibble' was built under R version 3.6.3\"Warning message:\n",
      "\"package 'dplyr' was built under R version 3.6.3\"-- \u001b[1mConflicts\u001b[22m ------------------------------------------ tidyverse_conflicts() --\n",
      "\u001b[31mx\u001b[39m \u001b[34mtidyr\u001b[39m::\u001b[32mextract()\u001b[39m   masks \u001b[34mmagrittr\u001b[39m::extract()\n",
      "\u001b[31mx\u001b[39m \u001b[34mdplyr\u001b[39m::\u001b[32mfilter()\u001b[39m    masks \u001b[34mstats\u001b[39m::filter()\n",
      "\u001b[31mx\u001b[39m \u001b[34mdplyr\u001b[39m::\u001b[32mlag()\u001b[39m       masks \u001b[34mstats\u001b[39m::lag()\n",
      "\u001b[31mx\u001b[39m \u001b[34mdplyr\u001b[39m::\u001b[32mselect()\u001b[39m    masks \u001b[34mMASS\u001b[39m::select()\n",
      "\u001b[31mx\u001b[39m \u001b[34mpurrr\u001b[39m::\u001b[32mset_names()\u001b[39m masks \u001b[34mmagrittr\u001b[39m::set_names()\n"
     ]
    }
   ],
   "source": [
    "library(ggpubr)\n",
    "library(MASS)\n",
    "library(tidyverse)"
   ]
  },
  {
   "cell_type": "code",
   "execution_count": 2,
   "metadata": {},
   "outputs": [
    {
     "data": {
      "image/png": "[encoded data removed]",
      "text/plain": [
       "plot without title"
      ]
     },
     "metadata": {},
     "output_type": "display_data"
    }
   ],
   "source": [
    "# Use ggarrnage to create the boxcar kernel, the Gaussian kernel, the Epanechnikov kernel, the tricube kernel\n",
    "q1 <- runif(10000, -4, 4)\n",
    "plot_1 <- \n",
    "  tibble(x = q1, y = 0.5*(abs(q1) <= 1)) %>% \n",
    "  ggplot(aes(x = x, y = y)) + \n",
    "  geom_line() +\n",
    "  labs(title = \"Boxcar\") +\n",
    "  theme(axis.title= element_blank())\n",
    "\n",
    "plot_2 <- \n",
    "  tibble(x = q1, y = (1/sqrt(2*pi))*exp((-q1^2)/2)) %>% \n",
    "  ggplot(aes(x = x, y = y)) + \n",
    "  geom_line() +\n",
    "  labs(title = \"Gaussian\") +\n",
    "  theme(axis.title= element_blank())\n",
    " \n",
    "plot_3 <- \n",
    "  tibble(x = q1, y = (3/4)*(1-q1^2)*(abs(q1) <= 1)) %>% \n",
    "  ggplot(aes(x = x, y = y)) + \n",
    "  geom_line() +\n",
    "  labs(title = \"Epanechnikov\") +\n",
    "  theme(axis.title= element_blank())\n",
    "\n",
    "plot_4 <- \n",
    "  tibble(x = q1, y = (70/81)*((1-abs(q1)^3)^3)*(abs(q1) <= 1)) %>% \n",
    "  ggplot(aes(x = x, y = y)) + \n",
    "  geom_line() +\n",
    "  labs(title = \"Tricube\") +\n",
    "  theme(axis.title= element_blank())\n",
    "\n",
    "ggarrange(plot_1, plot_2, plot_3, plot_4)"
   ]
  },
  {
   "cell_type": "code",
   "execution_count": 3,
   "metadata": {},
   "outputs": [],
   "source": [
    "# Write a function called neg_log_like_Gamma with inputs theta and x that returns the value of the\n",
    "# negative of the log-likelihood function evaluated at Θ = (α, β) given the data x.\n",
    "# Setting\n",
    "set.seed(1)\n",
    "alpha <- 1.5\n",
    "beta <- 2\n",
    "n <- 10000\n",
    "\n",
    "# Simulation\n",
    "x <-rgamma(n, alpha ,beta)\n",
    "\n",
    "## The negative of the log likelihood function\n",
    "neg_log_like_Gamma <- function(theta, x){\n",
    " alpha <- theta[1]\n",
    " beta <-theta[2]\n",
    " n <- length(x)\n",
    " log_like_Gamma <- n*alpha*log(beta)-n*log(gamma(alpha))+(alpha-1)*sum(log(x))-beta*sum(x)\n",
    " -log_like_Gamma\n",
    "}"
   ]
  },
  {
   "cell_type": "code",
   "execution_count": 4,
   "metadata": {},
   "outputs": [
    {
     "data": {
      "text/html": [
       "<ol class=list-inline>\n",
       "\t<li>1.52273159534321</li>\n",
       "\t<li>2.01278292867319</li>\n",
       "</ol>\n"
      ],
      "text/latex": [
       "\\begin{enumerate*}\n",
       "\\item 1.52273159534321\n",
       "\\item 2.01278292867319\n",
       "\\end{enumerate*}\n"
      ],
      "text/markdown": [
       "1. 1.52273159534321\n",
       "2. 2.01278292867319\n",
       "\n",
       "\n"
      ],
      "text/plain": [
       "[1] 1.522732 2.012783"
      ]
     },
     "metadata": {},
     "output_type": "display_data"
    }
   ],
   "source": [
    "# Find the MLE of alpha and beta using optim,\n",
    "# Optimization\n",
    "(est<- optim(par = runif(2, 0, 1), f= neg_log_like_Gamma, x = x, method = \"L-BFGS-B\")$par)"
   ]
  },
  {
   "cell_type": "code",
   "execution_count": 5,
   "metadata": {},
   "outputs": [
    {
     "data": {
      "text/html": [
       "<ol class=list-inline>\n",
       "\t<li>0.276009647564542</li>\n",
       "\t<li>0.551093063224853</li>\n",
       "\t<li>-0.526257072495727</li>\n",
       "</ol>\n"
      ],
      "text/latex": [
       "\\begin{enumerate*}\n",
       "\\item 0.276009647564542\n",
       "\\item 0.551093063224853\n",
       "\\item -0.526257072495727\n",
       "\\end{enumerate*}\n"
      ],
      "text/markdown": [
       "1. 0.276009647564542\n",
       "2. 0.551093063224853\n",
       "3. -0.526257072495727\n",
       "\n",
       "\n"
      ],
      "text/plain": [
       "[1]  0.2760096  0.5510931 -0.5262571"
      ]
     },
     "metadata": {},
     "output_type": "display_data"
    }
   ],
   "source": [
    "# Write a function called neg_log_like_Pois with inputs beta, X and y that returns the value of the\n",
    "# negative of the log-likelihood function evaluated at beta given the data X and y.\n",
    "# Setting\n",
    "set.seed(1)\n",
    "beta <-c(0.3, 0.5, -0.5)\n",
    "n <- 10000\n",
    "p <-length(beta)-1\n",
    "\n",
    "# Simulation\n",
    "X <-cbind(1,matrix(runif(n*p), nrow = n, ncol = p))\n",
    "y <-rpois(n,exp(X%*%beta))\n",
    "\n",
    "## The negative of the log likelihood function\n",
    "neg_log_like_Pois <- function(beta, X, y){\n",
    "  beta_X <- beta[1] + beta[2]*X[,2] + beta[3]*X[,3]\n",
    "  log_like_Pois <- sum(-exp(beta_X)+(beta_X)*y)\n",
    "  -log_like_Pois\n",
    "}\n",
    "\n",
    "# Find the MLE of β using optim, the function in Q3(a), and the simulated data at the beginning of\n",
    "# this question.\n",
    "# Optimization\n",
    "(beta_est <- optim(par = runif(3, 0, 1), f = neg_log_like_Pois, y = y, X = X, method = \"BFGS\")$par)"
   ]
  },
  {
   "cell_type": "code",
   "execution_count": 6,
   "metadata": {},
   "outputs": [],
   "source": [
    "# Write a function called dedf (density of empirical distribution function) to compute the empirical\n",
    "# distribution function of the observation data at x. The inputs are x (a vector of length 1) and data (a vector\n",
    "# of arbitrary length).\n",
    "dedf <- function(x, data){\n",
    "  n <- length(data)\n",
    "  no_element_satisfied <- sum(data <= x)\n",
    "  density <- no_element_satisfied/n\n",
    "  density\n",
    "}"
   ]
  },
  {
   "cell_type": "code",
   "execution_count": 7,
   "metadata": {},
   "outputs": [],
   "source": [
    "# Write a function called ks_ts to compute the test statistic D := supx|Fn(x) − Gm(x)|\n",
    "ks_ts <-function(x, y){\n",
    "  u <- c(x, y)\n",
    "  D <- rep(0, length(u))\n",
    "  for (i in 1:length(u)){\n",
    "    D[i] <- abs(dedf(u[i], x) - dedf(u[i], y))\n",
    "  }\n",
    "  max(D)\n",
    "}"
   ]
  },
  {
   "cell_type": "code",
   "execution_count": 10,
   "metadata": {},
   "outputs": [
    {
     "data": {
      "image/png": "[encoded data removed]",
      "text/plain": [
       "plot without title"
      ]
     },
     "metadata": {},
     "output_type": "display_data"
    },
    {
     "data": {
      "image/png": "[encoded data removed]",
      "text/plain": [
       "plot without title"
      ]
     },
     "metadata": {},
     "output_type": "display_data"
    }
   ],
   "source": [
    "# write a function called plot_edf to create the Empirical Distribution Function plots.\n",
    "plot_edf <- function(data){\n",
    "  x <- sort(data)\n",
    "  y <- c(0, rep(0, length(x)))\n",
    "  for (i in 1:length(x)){\n",
    "    y[i+1] <- dedf(x[i], x)\n",
    "  }\n",
    "  xstart <- c(min(x)-x[2]+x[1], x)\n",
    "  xend <- c(x, max(x)+x[2]-x[1])\n",
    "  plot <- \n",
    "    ggplot() +\n",
    "    geom_segment(aes(x = xstart, y = y, xend = xend, yend = y)) +\n",
    "    geom_point(aes(x = x, y = y[y > min(y)])) +\n",
    "    geom_point(aes(x = x, y = y[y < max(y)]), shape = 1) +\n",
    "    labs(x = 'x', y = expression(F[n](x)), title = \"Empirical Distribution Function\")\n",
    "  plot\n",
    "}\n",
    "\n",
    "plot_edf(data = c(1, 5, 10, 2, 4))\n",
    "\n",
    "set.seed(362)\n",
    "x <- runif(20, 0, 1)\n",
    "plot_edf(data = x)"
   ]
  },
  {
   "cell_type": "code",
   "execution_count": 11,
   "metadata": {},
   "outputs": [
    {
     "data": {
      "text/plain": [
       "\n",
       "\tOne Sample t-test\n",
       "\n",
       "data:  q7\n",
       "t = -0.50603, df = 4, p-value = 0.3197\n",
       "alternative hypothesis: true mean is less than 185\n",
       "95 percent confidence interval:\n",
       "    -Inf 190.976\n",
       "sample estimates:\n",
       "mean of x \n",
       "   183.14 \n"
      ]
     },
     "metadata": {},
     "output_type": "display_data"
    }
   ],
   "source": [
    "# The specifications for a certain kind of ribbon call for a mean breaking strength of 185 pounds. If five\n",
    "# pieces randomly selected from different rolls have breaking strengths of 171.6, 191.8, 178.3, 184.9, and 189.1\n",
    "# pounds, test the null hypothesis μ = 185 pounds against the alternative hypothesis μ < 185 pounds at the\n",
    "# 0.05 level of significance.\n",
    "q7 <- c(171.6, 191.8, 178.3, 184.9, 189.1)\n",
    "t.test(q7, mu = 185, alternative = \"less\")"
   ]
  },
  {
   "cell_type": "code",
   "execution_count": 12,
   "metadata": {},
   "outputs": [
    {
     "data": {
      "text/html": [
       "<ol class=list-inline>\n",
       "\t<li>124762.095732506</li>\n",
       "\t<li>156912.904267494</li>\n",
       "</ol>\n"
      ],
      "text/latex": [
       "\\begin{enumerate*}\n",
       "\\item 124762.095732506\n",
       "\\item 156912.904267494\n",
       "\\end{enumerate*}\n"
      ],
      "text/markdown": [
       "1. 124762.095732506\n",
       "2. 156912.904267494\n",
       "\n",
       "\n"
      ],
      "text/plain": [
       "[1] 124762.1 156912.9\n",
       "attr(,\"conf.level\")\n",
       "[1] 0.95"
      ]
     },
     "metadata": {},
     "output_type": "display_data"
    }
   ],
   "source": [
    "# To study the durability of a new paint for white center lines, a highway department painted test\n",
    "# strips across heavily traveled roads in eight different locations, and electronic counters showed that they\n",
    "# deteriorated after having been crossed by (to the nearest hundred) 142,600, 167,800, 136,500, 108,300,\n",
    "# 126,400, 133,700, 162,000, and 149,400 cars. Construct a 95% confidence interval for the average amount of\n",
    "# traffic (car crossings) that this paint can withstand before it deteriorates.\n",
    "q8 <- c(142600, 167800, 136500, 108300, 126400, 133700, 162000, 149400)\n",
    "t.test(q8, conf.level = 0.95)$conf.int"
   ]
  },
  {
   "cell_type": "code",
   "execution_count": 13,
   "metadata": {},
   "outputs": [
    {
     "data": {
      "text/html": [
       "<ol class=list-inline>\n",
       "\t<li>0.0635869102115032</li>\n",
       "\t<li>0.119260732614291</li>\n",
       "</ol>\n"
      ],
      "text/latex": [
       "\\begin{enumerate*}\n",
       "\\item 0.0635869102115032\n",
       "\\item 0.119260732614291\n",
       "\\end{enumerate*}\n"
      ],
      "text/markdown": [
       "1. 0.0635869102115032\n",
       "2. 0.119260732614291\n",
       "\n",
       "\n"
      ],
      "text/plain": [
       "[1] 0.06358691 0.11926073\n",
       "attr(,\"conf.level\")\n",
       "[1] 0.95"
      ]
     },
     "metadata": {},
     "output_type": "display_data"
    }
   ],
   "source": [
    "# In a random sample, 35 of 400 persons given a flu vaccine experienced some discomfort. Construct a 95\n",
    "# confidence interval for the true proportion of persons who will experience some discomfort from the vaccine.\n",
    "no_discomfort <- 35\n",
    "prop.test(no_discomfort, 400, p = no_discomfort/400 )$conf.int"
   ]
  },
  {
   "cell_type": "code",
   "execution_count": 15,
   "metadata": {},
   "outputs": [
    {
     "data": {
      "text/plain": [
       "\n",
       "\t3-sample test for equality of proportions without continuity\n",
       "\tcorrection\n",
       "\n",
       "data:  no_A out of no_sample\n",
       "X-squared = 6.4733, df = 2, p-value = 0.0393\n",
       "alternative hypothesis: two.sided\n",
       "sample estimates:\n",
       "prop 1 prop 2 prop 3 \n",
       "0.5800 0.5200 0.4925 \n"
      ]
     },
     "metadata": {},
     "output_type": "display_data"
    }
   ],
   "source": [
    "# Determine, on the basis of the sample data shown in the following table, whether the true proportion\n",
    "# of shoppers favoring detergent A over detergent B is the same in all three cities:\n",
    "#           number favoring detergent A             number favoring detergent B\n",
    "# City C             232                                 168\n",
    "# City D             260                                 240\n",
    "# City E             197                                 203\n",
    "no_A <- c(232, 260, 197)\n",
    "no_sample <-c(232+168, 260+240, 197+203)\n",
    "prop.test(no_A, no_sample)"
   ]
  }
 ],
 "metadata": {
  "kernelspec": {
   "display_name": "R",
   "language": "R",
   "name": "ir"
  },
  "language_info": {
   "codemirror_mode": "r",
   "file_extension": ".r",
   "mimetype": "text/x-r-source",
   "name": "R",
   "pygments_lexer": "r",
   "version": "3.6.1"
  }
 },
 "nbformat": 4,
 "nbformat_minor": 4
}
