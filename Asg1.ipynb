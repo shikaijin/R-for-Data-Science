{
 "cells": [
  {
   "cell_type": "code",
   "execution_count": 1,
   "metadata": {},
   "outputs": [
    {
     "data": {
      "text/html": [
       "<ol class=list-inline>\n",
       "\t<li>-2.22222222222222</li>\n",
       "\t<li>3.22222222222222</li>\n",
       "</ol>\n"
      ],
      "text/latex": [
       "\\begin{enumerate*}\n",
       "\\item -2.22222222222222\n",
       "\\item 3.22222222222222\n",
       "\\end{enumerate*}\n"
      ],
      "text/markdown": [
       "1. -2.22222222222222\n",
       "2. 3.22222222222222\n",
       "\n",
       "\n"
      ],
      "text/plain": [
       "[1] -2.222222  3.222222"
      ]
     },
     "metadata": {},
     "output_type": "display_data"
    }
   ],
   "source": [
    "# Write a function called my_LS to compute the least squares estimate in linear regression given the deisng matrix X (n × p)\n",
    "# and response vector Y (length n). The function should take X and Y as two inputs and outputs a vector (not a matrix).\n",
    "my_LS <- function(X, Y){\n",
    "  A <- solve(t(X)%*%X)%*%t(X)%*%Y\n",
    "  return(as.vector(A))\n",
    "}\n",
    "X <- cbind(rep(1, 10), 1:10)\n",
    "Y <- seq(1,30, length = 10)\n",
    "my_LS(X, Y)"
   ]
  },
  {
   "cell_type": "code",
   "execution_count": 2,
   "metadata": {},
   "outputs": [
    {
     "data": {
      "text/html": [
       "<ol class=list-inline>\n",
       "\t<li>-1.37455637455638</li>\n",
       "\t<li>3.0930930930931</li>\n",
       "</ol>\n"
      ],
      "text/latex": [
       "\\begin{enumerate*}\n",
       "\\item -1.37455637455638\n",
       "\\item 3.0930930930931\n",
       "\\end{enumerate*}\n"
      ],
      "text/markdown": [
       "1. -1.37455637455638\n",
       "2. 3.0930930930931\n",
       "\n",
       "\n"
      ],
      "text/plain": [
       "[1] -1.374556  3.093093"
      ]
     },
     "metadata": {},
     "output_type": "display_data"
    }
   ],
   "source": [
    "# Write a function (using the operators and built-in function in Chapter 1 of the lecture notes) called\n",
    "# my_ridge to compute the ridge estimate in ridge regression given the design matrix X (n × p), response\n",
    "# vector Y (length n) and penalty parameter (a scalar) lambda. The function should take X, Y , and lambda as inputs\n",
    "# and outputs a vector (not a matrix).\n",
    "my_ridge <- function(X, Y, lambda){\n",
    "  I <- diag(1, nrow = nrow(t(X)%*%X), ncol = ncol(t(X)%*%X))\n",
    "  A <- solve(t(X)%*%X + lambda*I)%*%t(X)%*%Y\n",
    "  return(as.vector(A))\n",
    "}\n",
    "X <- cbind(rep(1, 10), 1:10)\n",
    "Y <- seq(1,30, length = 10)\n",
    "lambda <- 1\n",
    "my_ridge(X, Y, lambda)"
   ]
  },
  {
   "cell_type": "code",
   "execution_count": 4,
   "metadata": {},
   "outputs": [
    {
     "data": {
      "text/html": [
       "145.593506493506"
      ],
      "text/latex": [
       "145.593506493506"
      ],
      "text/markdown": [
       "145.593506493506"
      ],
      "text/plain": [
       "[1] 145.5935"
      ]
     },
     "metadata": {},
     "output_type": "display_data"
    }
   ],
   "source": [
    "# Write a function called my_sum using two for loops to find sigma x=1 to n sigma y = 1 to m (x^2)*y/ (x+y).\n",
    "my_sum <- function(n, m){\n",
    "  sum <- 0\n",
    "  for (x in 1:n) {\n",
    "    for (y in 1:m) {\n",
    "      sum <- sum + x^2*y/(x+y)\n",
    "    }\n",
    "  }\n",
    "  return(sum)\n",
    "}\n",
    "my_sum(n = 5, m = 6)"
   ]
  },
  {
   "cell_type": "code",
   "execution_count": 5,
   "metadata": {},
   "outputs": [
    {
     "data": {
      "text/html": [
       "145.593506493506"
      ],
      "text/latex": [
       "145.593506493506"
      ],
      "text/markdown": [
       "145.593506493506"
      ],
      "text/plain": [
       "[1] 145.5935"
      ]
     },
     "metadata": {},
     "output_type": "display_data"
    }
   ],
   "source": [
    "# Write a function called my_sum2 without any loops (for loops, while loops, repeat loops) to do the same\n",
    "# task in Q3.\n",
    "my_sum2 <- function(n, m){\n",
    "  x <- matrix(1:n, n, m)\n",
    "  y <- matrix(1:m, n, m, byrow = TRUE)\n",
    "  return(sum(x^2*y/(x+y)))\n",
    "}\n",
    "my_sum2(n = 5, m = 6)"
   ]
  },
  {
   "cell_type": "code",
   "execution_count": 6,
   "metadata": {},
   "outputs": [
    {
     "data": {
      "text/html": [
       "1"
      ],
      "text/latex": [
       "1"
      ],
      "text/markdown": [
       "1"
      ],
      "text/plain": [
       "[1] 1"
      ]
     },
     "metadata": {},
     "output_type": "display_data"
    }
   ],
   "source": [
    "# Write a one-line R code to sample an integer randomly from {1, 2, 3, 4, 5} using runif (each integer has\n",
    "# 0.2 probability of being selected).\n",
    "floor(runif(1, min = 1, max = 6))"
   ]
  },
  {
   "cell_type": "code",
   "execution_count": 7,
   "metadata": {},
   "outputs": [
    {
     "data": {
      "text/html": [
       "<ol class=list-inline>\n",
       "\t<li>0</li>\n",
       "\t<li>0</li>\n",
       "\t<li>1</li>\n",
       "\t<li>1</li>\n",
       "\t<li>1</li>\n",
       "\t<li>1</li>\n",
       "\t<li>0</li>\n",
       "\t<li>0</li>\n",
       "\t<li>1</li>\n",
       "\t<li>0</li>\n",
       "</ol>\n"
      ],
      "text/latex": [
       "\\begin{enumerate*}\n",
       "\\item 0\n",
       "\\item 0\n",
       "\\item 1\n",
       "\\item 1\n",
       "\\item 1\n",
       "\\item 1\n",
       "\\item 0\n",
       "\\item 0\n",
       "\\item 1\n",
       "\\item 0\n",
       "\\end{enumerate*}\n"
      ],
      "text/markdown": [
       "1. 0\n",
       "2. 0\n",
       "3. 1\n",
       "4. 1\n",
       "5. 1\n",
       "6. 1\n",
       "7. 0\n",
       "8. 0\n",
       "9. 1\n",
       "10. 0\n",
       "\n",
       "\n"
      ],
      "text/plain": [
       " [1] 0 0 1 1 1 1 0 0 1 0"
      ]
     },
     "metadata": {},
     "output_type": "display_data"
    }
   ],
   "source": [
    "# have a biased coin with P(Head) = 0.6. Write down a code for simulating the results from flipping\n",
    "# this coin 10 times independently.\n",
    "sample(c(0,1), size = 10, replace = TRUE, prob = c(0.4,0.6))"
   ]
  },
  {
   "cell_type": "code",
   "execution_count": 8,
   "metadata": {},
   "outputs": [
    {
     "data": {
      "text/html": [
       "167167"
      ],
      "text/latex": [
       "167167"
      ],
      "text/markdown": [
       "167167"
      ],
      "text/plain": [
       "[1] 167167"
      ]
     },
     "metadata": {},
     "output_type": "display_data"
    }
   ],
   "source": [
    "# Write a one-line R code to calculate |x|1, where x = seq(1,1000,by=3).\n",
    "sum(abs(seq(1,1000,by=3)))"
   ]
  },
  {
   "cell_type": "code",
   "execution_count": 9,
   "metadata": {},
   "outputs": [
    {
     "data": {
      "text/html": [
       "10564.639653107"
      ],
      "text/latex": [
       "10564.639653107"
      ],
      "text/markdown": [
       "10564.639653107"
      ],
      "text/plain": [
       "[1] 10564.64"
      ]
     },
     "metadata": {},
     "output_type": "display_data"
    }
   ],
   "source": [
    "# Write a one-line R code to calculate |x|2, where x = seq(1,1000,by=3).\n",
    "sqrt(sum(seq(1,1000,by=3)^2))"
   ]
  },
  {
   "cell_type": "code",
   "execution_count": 10,
   "metadata": {},
   "outputs": [
    {
     "data": {
      "text/html": [
       "25"
      ],
      "text/latex": [
       "25"
      ],
      "text/markdown": [
       "25"
      ],
      "text/plain": [
       "[1] 25"
      ]
     },
     "metadata": {},
     "output_type": "display_data"
    }
   ],
   "source": [
    "# Let v be a vector of positive integers. Write a one-line R code to compute the sum of all the odd integers in v.\n",
    "v <- 1:10 # define v be a vector of positive integers\n",
    "sum(v[v%%2==1]) # find the sum of all odd integers in v\n",
    "# so, the final answer is sum(v[v%%2==1])"
   ]
  },
  {
   "cell_type": "code",
   "execution_count": 11,
   "metadata": {},
   "outputs": [
    {
     "data": {
      "image/png": "[encoded data removed]",
      "text/plain": [
       "plot without title"
      ]
     },
     "metadata": {},
     "output_type": "display_data"
    }
   ],
   "source": [
    "# Write R code to create a plot of the probability mass function of the geometric distribution with \n",
    "# parameter 0.3 from x = 1 to x = 10.\n",
    "x <- 0:10\n",
    "plot(x, dgeom(x, prob = 0.3), type=\"h\")"
   ]
  },
  {
   "cell_type": "code",
   "execution_count": 12,
   "metadata": {},
   "outputs": [
    {
     "data": {
      "text/html": [
       "0.21743"
      ],
      "text/latex": [
       "0.21743"
      ],
      "text/markdown": [
       "0.21743"
      ],
      "text/plain": [
       "[1] 0.21743"
      ]
     },
     "metadata": {},
     "output_type": "display_data"
    }
   ],
   "source": [
    "# Suppose that the current price of a certain stock P0 is 100, μ = 0.0002 and σ = 0.015. Using simulation,\n",
    "# estimate the probability that the price is below $95 at the close of at least one of the next 20 trading days\n",
    "# and the price is above $101 at the close of at least one of the next 40 trading days.\n",
    "no_sum <- 100000\n",
    "result <- rep(0, no_sum)\n",
    "for (i in 1:no_sum) {\n",
    "  price <- 100*exp(cumsum(rnorm(40, mean = 0.0002, sd = 0.015)))\n",
    "  result[i] <- min(price[1:20]) < 95 & max(price) > 101\n",
    "}\n",
    "mean(result)"
   ]
  },
  {
   "cell_type": "code",
   "execution_count": null,
   "metadata": {},
   "outputs": [],
   "source": []
  }
 ],
 "metadata": {
  "kernelspec": {
   "display_name": "R",
   "language": "R",
   "name": "ir"
  },
  "language_info": {
   "codemirror_mode": "r",
   "file_extension": ".r",
   "mimetype": "text/x-r-source",
   "name": "R",
   "pygments_lexer": "r",
   "version": "3.6.1"
  }
 },
 "nbformat": 4,
 "nbformat_minor": 4
}
